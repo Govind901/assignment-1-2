{
  "nbformat": 4,
  "nbformat_minor": 0,
  "metadata": {
    "colab": {
      "name": "Untitled2.ipynb",
      "provenance": [],
      "authorship_tag": "ABX9TyNUZDpBaBpxhKEWmsOeOO8B",
      "include_colab_link": true
    },
    "kernelspec": {
      "name": "python3",
      "display_name": "Python 3"
    }
  },
  "cells": [
    {
      "cell_type": "markdown",
      "metadata": {
        "id": "view-in-github",
        "colab_type": "text"
      },
      "source": [
        "<a href=\"https://colab.research.google.com/github/Govind901/assignment-1-2/blob/master/Untitled2.ipynb\" target=\"_parent\"><img src=\"https://colab.research.google.com/assets/colab-badge.svg\" alt=\"Open In Colab\"/></a>"
      ]
    },
    {
      "cell_type": "code",
      "metadata": {
        "id": "XiSJWFU_yKkv",
        "colab_type": "code",
        "colab": {
          "base_uri": "https://localhost:8080/",
          "height": 51
        },
        "outputId": "b1868fd3-0c7e-4b72-d230-91dfd3a03115"
      },
      "source": [
        " n=int(input('enter no of elements'))\n",
        "sum=0\n",
        "for i in range(n+1):\n",
        "  sum+=i\n",
        "print(sum)"
      ],
      "execution_count": 1,
      "outputs": [
        {
          "output_type": "stream",
          "text": [
            "enter no of elements3\n",
            "6\n"
          ],
          "name": "stdout"
        }
      ]
    },
    {
      "cell_type": "code",
      "metadata": {
        "id": "czJdoK4vyV1K",
        "colab_type": "code",
        "colab": {
          "base_uri": "https://localhost:8080/",
          "height": 69
        },
        "outputId": "92160a65-25b7-4f90-8424-beb0c153c56e"
      },
      "source": [
        " y=set(input('enter the list elements').split())\n",
        "l=[]\n",
        "m=[]\n",
        "for i in y:\n",
        "  if int(i)%2==0:\n",
        "    l.append(int(i))\n",
        "  else:\n",
        "    m.append(int(i))\n",
        "print(len(l),'the even list is ',l)\n",
        "print(len(m),'the odd list is',m)"
      ],
      "execution_count": 2,
      "outputs": [
        {
          "output_type": "stream",
          "text": [
            "enter the list elements3 2 1 4 6\n",
            "3 the even list is  [4, 6, 2]\n",
            "2 the odd list is [1, 3]\n"
          ],
          "name": "stdout"
        }
      ]
    },
    {
      "cell_type": "code",
      "metadata": {
        "id": "aB2H0c_8yv9U",
        "colab_type": "code",
        "colab": {
          "base_uri": "https://localhost:8080/",
          "height": 86
        },
        "outputId": "3c6b6bd1-8615-4c05-8b30-829a500cab9b"
      },
      "source": [
        " for i in range(0,7):\n",
        "  if i%3==0:\n",
        "    continue\n",
        "  else:\n",
        "    print (i)"
      ],
      "execution_count": 3,
      "outputs": [
        {
          "output_type": "stream",
          "text": [
            "1\n",
            "2\n",
            "4\n",
            "5\n"
          ],
          "name": "stdout"
        }
      ]
    },
    {
      "cell_type": "code",
      "metadata": {
        "id": "xrl1Jjc2zGHt",
        "colab_type": "code",
        "colab": {
          "base_uri": "https://localhost:8080/",
          "height": 51
        },
        "outputId": "c69426cd-e02f-499c-cf37-b85b0324e09f"
      },
      "source": [
        " x=input('enter the list numbers').split()\n",
        "l=[]\n",
        "for i in x:\n",
        "  l.append(int(int(i)**2))\n",
        "print(l)"
      ],
      "execution_count": 4,
      "outputs": [
        {
          "output_type": "stream",
          "text": [
            "enter the list numbers4 3 6 1 4\n",
            "[16, 9, 36, 1, 16]\n"
          ],
          "name": "stdout"
        }
      ]
    },
    {
      "cell_type": "code",
      "metadata": {
        "id": "1A02sMgZzbD4",
        "colab_type": "code",
        "colab": {
          "base_uri": "https://localhost:8080/",
          "height": 51
        },
        "outputId": "4de4a535-8469-4c3a-d199-e8e42f914387"
      },
      "source": [
        " n=int(input('enter the number of integers'))\n",
        "sum=0\n",
        "for i in range(n+1):\n",
        "  sum+=i\n",
        "print(f'sum: {sum} and average is {sum/n}')"
      ],
      "execution_count": 5,
      "outputs": [
        {
          "output_type": "stream",
          "text": [
            "enter the number of integers7\n",
            "sum: 28 and average is 4.0\n"
          ],
          "name": "stdout"
        }
      ]
    },
    {
      "cell_type": "code",
      "metadata": {
        "id": "ZAV5V19Hzlo5",
        "colab_type": "code",
        "colab": {
          "base_uri": "https://localhost:8080/",
          "height": 71
        },
        "outputId": "f0ac94c4-6dea-424f-d307-f398b25bc43d"
      },
      "source": [
        " n=input('enter a number with spaces between each digit').split( )\n",
        "a=n[ : :-1]\n",
        "b=''.join(a)\n",
        "print(b)"
      ],
      "execution_count": 6,
      "outputs": [
        {
          "output_type": "stream",
          "text": [
            "enter a number with spaces between each digit4 3\n",
            "34\n"
          ],
          "name": "stdout"
        }
      ]
    },
    {
      "cell_type": "code",
      "metadata": {
        "id": "JQIKVxdezzl2",
        "colab_type": "code",
        "colab": {
          "base_uri": "https://localhost:8080/",
          "height": 51
        },
        "outputId": "255d7089-0ccf-4d68-abf0-6673c7eaa195"
      },
      "source": [
        " n=int(input('enter the range'))\n",
        "l=[]\n",
        "for i in range(1,n+1):\n",
        "  if i%2!=0:\n",
        "    l.append(i)\n",
        "  else:\n",
        "    pass\n",
        "print(l)"
      ],
      "execution_count": 7,
      "outputs": [
        {
          "output_type": "stream",
          "text": [
            "enter the range5\n",
            "[1, 3, 5]\n"
          ],
          "name": "stdout"
        }
      ]
    },
    {
      "cell_type": "code",
      "metadata": {
        "id": "-WIGQgti0OH0",
        "colab_type": "code",
        "colab": {
          "base_uri": "https://localhost:8080/",
          "height": 51
        },
        "outputId": "fc0e8ff3-7f06-4891-ecc1-11f25632ba7e"
      },
      "source": [
        " n=int(input('enter the number'))\n",
        "count=0\n",
        "while n>0:\n",
        "  n=n//10\n",
        "  count+=1\n",
        "print(count)"
      ],
      "execution_count": 8,
      "outputs": [
        {
          "output_type": "stream",
          "text": [
            "enter the number4\n",
            "1\n"
          ],
          "name": "stdout"
        }
      ]
    },
    {
      "cell_type": "code",
      "metadata": {
        "id": "qSI9uvWN0Y3I",
        "colab_type": "code",
        "colab": {
          "base_uri": "https://localhost:8080/",
          "height": 51
        },
        "outputId": "da421dff-f1aa-4fa1-f464-650563965ab7"
      },
      "source": [
        " n=int(input('enter the number'))\n",
        "temp=n\n",
        "rev=0\n",
        "while(n>0):\n",
        "  dig=n%10\n",
        "  rev=rev*10+dig\n",
        "  n=n//10\n",
        "if(temp==rev):\n",
        "    print(\"The number is a palindrome!\")\n",
        "else:\n",
        "    print(\"The number isn't a palindrome!\")"
      ],
      "execution_count": 9,
      "outputs": [
        {
          "output_type": "stream",
          "text": [
            "enter the number4\n",
            "The number is a palindrome!\n"
          ],
          "name": "stdout"
        }
      ]
    },
    {
      "cell_type": "code",
      "metadata": {
        "id": "i5PM3skg0j09",
        "colab_type": "code",
        "colab": {
          "base_uri": "https://localhost:8080/",
          "height": 103
        },
        "outputId": "d9c8b289-ce6e-49ed-8533-87cc99ac28f6"
      },
      "source": [
        " n=int(input('enter the matrix number'))\n",
        "for i in range(0,n):\n",
        "  for j in range(0,n):\n",
        "    if i==j:\n",
        "      print(\"1\",sep=\" \",end=\" \")\n",
        "    else:\n",
        "     print(\"0\",sep=\" \",end=\" \")\n",
        "  print()"
      ],
      "execution_count": 10,
      "outputs": [
        {
          "output_type": "stream",
          "text": [
            "enter the matrix number4\n",
            "1 0 0 0 \n",
            "0 1 0 0 \n",
            "0 0 1 0 \n",
            "0 0 0 1 \n"
          ],
          "name": "stdout"
        }
      ]
    },
    {
      "cell_type": "code",
      "metadata": {
        "id": "a02PIKb40xNM",
        "colab_type": "code",
        "colab": {
          "base_uri": "https://localhost:8080/",
          "height": 71
        },
        "outputId": "aeacdbb5-2c5e-4d5b-a37a-6444a41dcfb2"
      },
      "source": [
        " n = int(input(\"Enter any number: \"))\n",
        "sum = 0\n",
        "for i in range(1, n):\n",
        "  if(n % i == 0):\n",
        "    sum += i\n",
        "if (sum == n):\n",
        "  print(\"The number is a Perfect number \")\n",
        "else:\n",
        "  print(\"The number is not a Perfect number \")"
      ],
      "execution_count": 11,
      "outputs": [
        {
          "output_type": "stream",
          "text": [
            "Enter any number: 4\n",
            "The number is not a Perfect number \n"
          ],
          "name": "stdout"
        }
      ]
    }
  ]
}