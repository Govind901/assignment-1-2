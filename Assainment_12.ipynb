{
  "nbformat": 4,
  "nbformat_minor": 0,
  "metadata": {
    "colab": {
      "name": "Assainment 12",
      "provenance": [],
      "authorship_tag": "ABX9TyO3cN1RTe6i20sm9tsZ+GtO",
      "include_colab_link": true
    },
    "kernelspec": {
      "name": "python3",
      "display_name": "Python 3"
    }
  },
  "cells": [
    {
      "cell_type": "markdown",
      "metadata": {
        "id": "view-in-github",
        "colab_type": "text"
      },
      "source": [
        "<a href=\"https://colab.research.google.com/github/Govind901/assignment-1-2/blob/master/Assainment_12.ipynb\" target=\"_parent\"><img src=\"https://colab.research.google.com/assets/colab-badge.svg\" alt=\"Open In Colab\"/></a>"
      ]
    },
    {
      "cell_type": "code",
      "metadata": {
        "id": "rgXO9bqhpxpA",
        "colab_type": "code",
        "colab": {
          "base_uri": "https://localhost:8080/",
          "height": 34
        },
        "outputId": "ea1296bf-948a-4e9a-cc21-87f6b339b09d"
      },
      "source": [
        " def Sum(myDict): \n",
        "      \n",
        "    sum = 0\n",
        "    for i in myDict: \n",
        "        sum+= myDict[i] \n",
        "    return sum\n",
        "dict = {'a': 100, 'b':200, 'c':300} \n",
        "print(\"Sum :\",Sum(dict))"
      ],
      "execution_count": 1,
      "outputs": [
        {
          "output_type": "stream",
          "text": [
            "Sum : 600\n"
          ],
          "name": "stdout"
        }
      ]
    },
    {
      "cell_type": "code",
      "metadata": {
        "id": "Ft-XROveqwki",
        "colab_type": "code",
        "colab": {
          "base_uri": "https://localhost:8080/",
          "height": 123
        },
        "outputId": "2d426914-4a3e-42e9-e6d4-01f347277c1a"
      },
      "source": [
        " d={'a':2,'b':4,'c':5,'d':8,'e':9}\n",
        "print(d['c'])\n",
        "print(d)\n",
        "d['e']=4\n",
        "print(d)\n",
        "print(d.pop('d'))\n",
        "print(d)"
      ],
      "execution_count": 2,
      "outputs": [
        {
          "output_type": "stream",
          "text": [
            "5\n",
            "{'a': 2, 'b': 4, 'c': 5, 'd': 8, 'e': 9}\n",
            "{'a': 2, 'b': 4, 'c': 5, 'd': 8, 'e': 4}\n",
            "8\n",
            "{'a': 2, 'b': 4, 'c': 5, 'e': 4}\n"
          ],
          "name": "stdout"
        }
      ]
    },
    {
      "cell_type": "code",
      "metadata": {
        "id": "bNsCcpMmrCZD",
        "colab_type": "code",
        "colab": {
          "base_uri": "https://localhost:8080/",
          "height": 71
        },
        "outputId": "0c312776-94e8-4964-9ded-60ee4b2301ff"
      },
      "source": [
        " d1={'a':2,'b':4}\n",
        "d2={'c':5,'d':8,'e':9}\n",
        "d1.update(d2)\n",
        "print(\"Concatenated dictionary is:\")\n",
        "print(d1)"
      ],
      "execution_count": 3,
      "outputs": [
        {
          "output_type": "stream",
          "text": [
            "Concatenated dictionary is:\n",
            "{'a': 2, 'b': 4, 'c': 5, 'd': 8, 'e': 9}\n"
          ],
          "name": "stdout"
        }
      ]
    },
    {
      "cell_type": "code",
      "metadata": {
        "id": "5d5i-FcMrNsp",
        "colab_type": "code",
        "colab": {
          "base_uri": "https://localhost:8080/",
          "height": 71
        },
        "outputId": "234cb488-99bc-4af5-8da1-6edbdb9c4ddc"
      },
      "source": [
        " print(d)\n",
        "d['g']=0\n",
        "d['r']='a'\n",
        "print(d)"
      ],
      "execution_count": 4,
      "outputs": [
        {
          "output_type": "stream",
          "text": [
            "{'a': 2, 'b': 4, 'c': 5, 'e': 4}\n",
            "{'a': 2, 'b': 4, 'c': 5, 'e': 4, 'g': 0, 'r': 'a'}\n"
          ],
          "name": "stdout"
        }
      ]
    },
    {
      "cell_type": "code",
      "metadata": {
        "id": "S40jQATeraKj",
        "colab_type": "code",
        "colab": {
          "base_uri": "https://localhost:8080/",
          "height": 34
        },
        "outputId": "20c755ab-2302-497f-d456-b0090bb01fba"
      },
      "source": [
        " print(len(d))"
      ],
      "execution_count": 5,
      "outputs": [
        {
          "output_type": "stream",
          "text": [
            "6\n"
          ],
          "name": "stdout"
        }
      ]
    },
    {
      "cell_type": "code",
      "metadata": {
        "id": "5Mq1WDbcrk-1",
        "colab_type": "code",
        "colab": {
          "base_uri": "https://localhost:8080/",
          "height": 71
        },
        "outputId": "0618811e-f794-4e17-ae8f-1611ad509251"
      },
      "source": [
        " print(d)\n",
        "d.pop('g')\n",
        "print(d)"
      ],
      "execution_count": 6,
      "outputs": [
        {
          "output_type": "stream",
          "text": [
            "{'a': 2, 'b': 4, 'c': 5, 'e': 4, 'g': 0, 'r': 'a'}\n",
            "{'a': 2, 'b': 4, 'c': 5, 'e': 4, 'r': 'a'}\n"
          ],
          "name": "stdout"
        }
      ]
    }
  ]
}