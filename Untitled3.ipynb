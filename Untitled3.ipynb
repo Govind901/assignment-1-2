{
  "nbformat": 4,
  "nbformat_minor": 0,
  "metadata": {
    "colab": {
      "name": "Untitled3.ipynb",
      "provenance": [],
      "authorship_tag": "ABX9TyNtH4jjPun/ONw5MG0eJ1NT",
      "include_colab_link": true
    },
    "kernelspec": {
      "name": "python3",
      "display_name": "Python 3"
    }
  },
  "cells": [
    {
      "cell_type": "markdown",
      "metadata": {
        "id": "view-in-github",
        "colab_type": "text"
      },
      "source": [
        "<a href=\"https://colab.research.google.com/github/Govind901/assignment-1-2/blob/master/Untitled3.ipynb\" target=\"_parent\"><img src=\"https://colab.research.google.com/assets/colab-badge.svg\" alt=\"Open In Colab\"/></a>"
      ]
    },
    {
      "cell_type": "code",
      "metadata": {
        "id": "E4RmspmoRtsw",
        "colab_type": "code",
        "colab": {
          "base_uri": "https://localhost:8080/",
          "height": 51
        },
        "outputId": "9153fb24-783f-4322-e488-8fd6dc48c5fb"
      },
      "source": [
        " a=input('enter the string')\n",
        "c=0\n",
        "for i in a:\n",
        "  c+=1\n",
        "print(c)"
      ],
      "execution_count": 1,
      "outputs": [
        {
          "output_type": "stream",
          "text": [
            "enter the stringGovindasai\n",
            "10\n"
          ],
          "name": "stdout"
        }
      ]
    },
    {
      "cell_type": "code",
      "metadata": {
        "id": "IkQWPDMmR4JQ",
        "colab_type": "code",
        "colab": {
          "base_uri": "https://localhost:8080/",
          "height": 51
        },
        "outputId": "ce6aff99-dd09-444b-a8ea-57649a2f9d0d"
      },
      "source": [
        " a=input('enter the string')\n",
        "n=a.split()\n",
        "c=0\n",
        "for i in n:\n",
        "  for j in i:\n",
        "    c+=1\n",
        "print(c)"
      ],
      "execution_count": 2,
      "outputs": [
        {
          "output_type": "stream",
          "text": [
            "enter the stringGovind\n",
            "6\n"
          ],
          "name": "stdout"
        }
      ]
    },
    {
      "cell_type": "code",
      "metadata": {
        "id": "wIgHd-rVSD8S",
        "colab_type": "code",
        "colab": {
          "base_uri": "https://localhost:8080/",
          "height": 34
        },
        "outputId": "f87669bf-c7f0-4693-97d0-f17cc7a36ff8"
      },
      "source": [
        " n='hello world'\n",
        "c=0\n",
        "for i in n:\n",
        "    if i=='o':\n",
        "        c+=1\n",
        "print(c)"
      ],
      "execution_count": 3,
      "outputs": [
        {
          "output_type": "stream",
          "text": [
            "2\n"
          ],
          "name": "stdout"
        }
      ]
    },
    {
      "cell_type": "code",
      "metadata": {
        "id": "uOkatrYiSSor",
        "colab_type": "code",
        "colab": {
          "base_uri": "https://localhost:8080/",
          "height": 89
        },
        "outputId": "13093546-747a-4308-b44e-ed9e2977f2a7"
      },
      "source": [
        " a=input('enter the script')\n",
        "u=a.upper()\n",
        "l=a.lower()\n",
        "print('the upper case of the script is: ',u)\n",
        "print('the lower case of the script is: ',l)"
      ],
      "execution_count": 4,
      "outputs": [
        {
          "output_type": "stream",
          "text": [
            "enter the scriptWhat are you doing\n",
            "the upper case of the script is:  WHAT ARE YOU DOING\n",
            "the lower case of the script is:  what are you doing\n"
          ],
          "name": "stdout"
        }
      ]
    },
    {
      "cell_type": "code",
      "metadata": {
        "id": "zAdKeXsNSiHU",
        "colab_type": "code",
        "colab": {
          "base_uri": "https://localhost:8080/",
          "height": 71
        },
        "outputId": "e93e5594-9e00-4beb-f736-82f068fd2976"
      },
      "source": [
        " a=input('enter the string')\n",
        "n=a.split()\n",
        "print('the substrings of the string is: ',n)"
      ],
      "execution_count": 5,
      "outputs": [
        {
          "output_type": "stream",
          "text": [
            "enter the stringWhat are they doing\n",
            "the substrings of the string is:  ['What', 'are', 'they', 'doing']\n"
          ],
          "name": "stdout"
        }
      ]
    },
    {
      "cell_type": "code",
      "metadata": {
        "id": "TjuBDWzBSwKd",
        "colab_type": "code",
        "colab": {
          "base_uri": "https://localhost:8080/",
          "height": 158
        },
        "outputId": "9b66eb4f-6991-410b-9c6c-62982b07d50f"
      },
      "source": [
        " a=input('enter the string')\n",
        "n=a.split()\n",
        "for i in n:\n",
        "  if i=='king':\n",
        "    print(i,' :is present in the given string')\n",
        "  elif(i<'king'):\n",
        "    print(i,' :word is smaller than the queen')\n",
        "  else:\n",
        "    print(i,' :word is greater than the queen')"
      ],
      "execution_count": 7,
      "outputs": [
        {
          "output_type": "stream",
          "text": [
            "enter the stringKing and Queen are sitting there\n",
            "King  :word is smaller than the queen\n",
            "and  :word is smaller than the queen\n",
            "Queen  :word is smaller than the queen\n",
            "are  :word is smaller than the queen\n",
            "sitting  :word is greater than the queen\n",
            "there  :word is greater than the queen\n"
          ],
          "name": "stdout"
        }
      ]
    },
    {
      "cell_type": "code",
      "metadata": {
        "id": "GLCvrGKnThS9",
        "colab_type": "code",
        "colab": {
          "base_uri": "https://localhost:8080/",
          "height": 51
        },
        "outputId": "38cc86f4-bf25-4300-b193-72a6d7710cc3"
      },
      "source": [
        " a=input('enter the string')\n",
        "print(a.replace('r',''))"
      ],
      "execution_count": 8,
      "outputs": [
        {
          "output_type": "stream",
          "text": [
            "enter the stringroching\n",
            "oching\n"
          ],
          "name": "stdout"
        }
      ]
    },
    {
      "cell_type": "code",
      "metadata": {
        "id": "LCO1xr8fTxp-",
        "colab_type": "code",
        "colab": {
          "base_uri": "https://localhost:8080/",
          "height": 207
        },
        "outputId": "bc6538c2-8a44-4c31-bf4b-84b25a0e810d"
      },
      "source": [
        " a=input('enter the string')\n",
        "n=a.split()\n",
        "for i in n:\n",
        "  for j in i:\n",
        "    print(j,'is the character in ',i)"
      ],
      "execution_count": 9,
      "outputs": [
        {
          "output_type": "stream",
          "text": [
            "enter the stringWho are they\n",
            "W is the character in  Who\n",
            "h is the character in  Who\n",
            "o is the character in  Who\n",
            "a is the character in  are\n",
            "r is the character in  are\n",
            "e is the character in  are\n",
            "t is the character in  they\n",
            "h is the character in  they\n",
            "e is the character in  they\n",
            "y is the character in  they\n"
          ],
          "name": "stdout"
        }
      ]
    },
    {
      "cell_type": "code",
      "metadata": {
        "id": "ROwCWx5fUAZx",
        "colab_type": "code",
        "colab": {
          "base_uri": "https://localhost:8080/",
          "height": 34
        },
        "outputId": "fb30bcb3-5a1c-4a37-f46c-7989381d8440"
      },
      "source": [
        " a='refrigerator'\n",
        "c=0\n",
        "for i in a:\n",
        "  c+=1\n",
        "print(c)"
      ],
      "execution_count": 10,
      "outputs": [
        {
          "output_type": "stream",
          "text": [
            "12\n"
          ],
          "name": "stdout"
        }
      ]
    },
    {
      "cell_type": "code",
      "metadata": {
        "id": "-W1M6Ey_UKaT",
        "colab_type": "code",
        "colab": {
          "base_uri": "https://localhost:8080/",
          "height": 71
        },
        "outputId": "aff2af5a-9be3-4e92-ab50-5ee0b033ad38"
      },
      "source": [
        " a=input('enter the string')\n",
        "n=a.split()\n",
        "c=0\n",
        "for i in n:\n",
        "  if len(i)==1:\n",
        "    c+=1\n",
        "  else:\n",
        "    pass\n",
        "if c in [0,1,2]:\n",
        "  print('the string contains substrings')\n",
        "else:\n",
        "  print('the string does not have substrings')"
      ],
      "execution_count": 11,
      "outputs": [
        {
          "output_type": "stream",
          "text": [
            "enter the stringThey are sitting there\n",
            "the string contains substrings\n"
          ],
          "name": "stdout"
        }
      ]
    }
  ]
}