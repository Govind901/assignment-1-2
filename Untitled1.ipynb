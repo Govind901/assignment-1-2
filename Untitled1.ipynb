{
  "nbformat": 4,
  "nbformat_minor": 0,
  "metadata": {
    "colab": {
      "name": "Untitled1.ipynb",
      "provenance": [],
      "authorship_tag": "ABX9TyOVouP+oyqRrdsqQo4iguqt",
      "include_colab_link": true
    },
    "kernelspec": {
      "name": "python3",
      "display_name": "Python 3"
    }
  },
  "cells": [
    {
      "cell_type": "markdown",
      "metadata": {
        "id": "view-in-github",
        "colab_type": "text"
      },
      "source": [
        "<a href=\"https://colab.research.google.com/github/Govind901/assignment-1-2/blob/master/Untitled1.ipynb\" target=\"_parent\"><img src=\"https://colab.research.google.com/assets/colab-badge.svg\" alt=\"Open In Colab\"/></a>"
      ]
    },
    {
      "cell_type": "code",
      "metadata": {
        "id": "xbdgTQ6Cwcg6",
        "colab_type": "code",
        "colab": {
          "base_uri": "https://localhost:8080/",
          "height": 51
        },
        "outputId": "760e9363-cf96-495a-90f0-d7c3cd547726"
      },
      "source": [
        " a=str(input('enter the binary code'))\n",
        "print(int(a,2))"
      ],
      "execution_count": 1,
      "outputs": [
        {
          "output_type": "stream",
          "text": [
            "enter the binary code10010\n",
            "18\n"
          ],
          "name": "stdout"
        }
      ]
    },
    {
      "cell_type": "code",
      "metadata": {
        "id": "ZJ1kCAdjw0U6",
        "colab_type": "code",
        "colab": {
          "base_uri": "https://localhost:8080/",
          "height": 51
        },
        "outputId": "3a7ed0e5-841f-4694-8986-769982b5f85e"
      },
      "source": [
        " a=0\n",
        "b=1\n",
        "n=int(input('enter no of elements to dislay'))\n",
        "fibo=[]\n",
        "for i in range (n):\n",
        "  fibo.append(a)\n",
        "  a,b=b,a+b\n",
        "print( fibo)"
      ],
      "execution_count": 2,
      "outputs": [
        {
          "output_type": "stream",
          "text": [
            "enter no of elements to dislay4\n",
            "[0, 1, 1, 2]\n"
          ],
          "name": "stdout"
        }
      ]
    },
    {
      "cell_type": "code",
      "metadata": {
        "id": "V07k79DLxD7D",
        "colab_type": "code",
        "colab": {
          "base_uri": "https://localhost:8080/",
          "height": 207
        },
        "outputId": "397c479c-ea2a-409d-f279-458e52219a0b"
      },
      "source": [
        " k=int(input('enter the table number'))\n",
        "a=0\n",
        "for i in range (1,11):\n",
        "  a=k*i\n",
        "  print(f'{k}*{i}={a}')"
      ],
      "execution_count": 3,
      "outputs": [
        {
          "output_type": "stream",
          "text": [
            "enter the table number4\n",
            "4*1=4\n",
            "4*2=8\n",
            "4*3=12\n",
            "4*4=16\n",
            "4*5=20\n",
            "4*6=24\n",
            "4*7=28\n",
            "4*8=32\n",
            "4*9=36\n",
            "4*10=40\n"
          ],
          "name": "stdout"
        }
      ]
    },
    {
      "cell_type": "code",
      "metadata": {
        "id": "cMAfB1VjxSp3",
        "colab_type": "code",
        "colab": {
          "base_uri": "https://localhost:8080/",
          "height": 69
        },
        "outputId": "76dd83a9-7dd5-4418-df34-aa1c2463a364"
      },
      "source": [
        " a=int(input('enter the first number'))\n",
        "b=int(input('enter the second number'))\n",
        "x=min(a,b)\n",
        "for i in range(1,x+1):\n",
        "  if a%i==0 and b%i==0:\n",
        "    gcd=i\n",
        "print('the gcd of the two numbers is',gcd)"
      ],
      "execution_count": 4,
      "outputs": [
        {
          "output_type": "stream",
          "text": [
            "enter the first number5\n",
            "enter the second number6\n",
            "the gcd of the two numbers is 1\n"
          ],
          "name": "stdout"
        }
      ]
    }
  ]
}