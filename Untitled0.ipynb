{
  "nbformat": 4,
  "nbformat_minor": 0,
  "metadata": {
    "colab": {
      "name": "Untitled0.ipynb",
      "provenance": [],
      "authorship_tag": "ABX9TyOrpIA2gWtVY/eFNCdW9ePj",
      "include_colab_link": true
    },
    "kernelspec": {
      "name": "python3",
      "display_name": "Python 3"
    }
  },
  "cells": [
    {
      "cell_type": "markdown",
      "metadata": {
        "id": "view-in-github",
        "colab_type": "text"
      },
      "source": [
        "<a href=\"https://colab.research.google.com/github/Govind901/assignment-1-2/blob/master/Untitled0.ipynb\" target=\"_parent\"><img src=\"https://colab.research.google.com/assets/colab-badge.svg\" alt=\"Open In Colab\"/></a>"
      ]
    },
    {
      "cell_type": "code",
      "metadata": {
        "id": "5v4-4wpkpKL0",
        "colab_type": "code",
        "colab": {}
      },
      "source": [
        " def factorial(num):\n",
        "    if(num==1):\n",
        "                return num\n",
        "  else:\n",
        "        return num*factorial(num-1)\n",
        "        num=int(input(\"enter the number\"))\n",
        "if(num<0):\n",
        "          print(\"number entered is negative\")\n",
        "elif(num==0):\n",
        "               print(\"factorial of zero is 1\")\n",
        "else:\n",
        "       print(\"factorial of\",num,\"is\",factorial(num))"
      ],
      "execution_count": null,
      "outputs": []
    },
    {
      "cell_type": "code",
      "metadata": {
        "id": "Ys4qSrFRprfX",
        "colab_type": "code",
        "colab": {
          "base_uri": "https://localhost:8080/",
          "height": 34
        },
        "outputId": "d6ca97f2-ad2c-44cc-8ac6-16e88a7ba9e4"
      },
      "source": [
        " \n",
        "def maximum(a,b,c):\n",
        "   if(a>b)and(a>c):\n",
        "                   print(\"a is max\")\n",
        "   elif(b>a)and(b>c):\n",
        "                      print(\"b is max\")\n",
        "   else:\n",
        "         print(\"c is max\")\n",
        " maximum (5,6,7)"
      ],
      "execution_count": 11,
      "outputs": [
        {
          "output_type": "stream",
          "text": [
            "c is max\n"
          ],
          "name": "stdout"
        }
      ]
    },
    {
      "cell_type": "code",
      "metadata": {
        "id": "_hy2F9YdqR0C",
        "colab_type": "code",
        "colab": {}
      },
      "source": [
        " \n",
        "def search_elementa(a,x):\n",
        "     if a in range(0,x+1):\n",
        "                           print(\"a is in range\")\n",
        "    else:\n",
        "                           print(\"a is not in range\")\n",
        "          search_elementa(4,3)"
      ],
      "execution_count": null,
      "outputs": []
    },
    {
      "cell_type": "code",
      "metadata": {
        "id": "QnbBPm1oqJ_N",
        "colab_type": "code",
        "colab": {}
      },
      "source": [
        ""
      ],
      "execution_count": null,
      "outputs": []
    }
  ]
}