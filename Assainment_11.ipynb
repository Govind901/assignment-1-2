{
  "nbformat": 4,
  "nbformat_minor": 0,
  "metadata": {
    "colab": {
      "name": "Assainment 11",
      "provenance": [],
      "authorship_tag": "ABX9TyPWLhfWSlvyoEDT3zrvGRvP",
      "include_colab_link": true
    },
    "kernelspec": {
      "name": "python3",
      "display_name": "Python 3"
    }
  },
  "cells": [
    {
      "cell_type": "markdown",
      "metadata": {
        "id": "view-in-github",
        "colab_type": "text"
      },
      "source": [
        "<a href=\"https://colab.research.google.com/github/Govind901/assignment-1-2/blob/master/Assainment_11.ipynb\" target=\"_parent\"><img src=\"https://colab.research.google.com/assets/colab-badge.svg\" alt=\"Open In Colab\"/></a>"
      ]
    },
    {
      "cell_type": "code",
      "metadata": {
        "id": "rgXO9bqhpxpA",
        "colab_type": "code",
        "colab": {
          "base_uri": "https://localhost:8080/",
          "height": 89
        },
        "outputId": "75cff545-fa76-40e3-eba7-717dd10874e0"
      },
      "source": [
        "l=sorted(input('enter the list'),reverse=False)\n",
        "print(l)\n",
        "print(l[0],'is an smallest number and the largest number is ',l[-1])"
      ],
      "execution_count": 2,
      "outputs": [
        {
          "output_type": "stream",
          "text": [
            "enter the list6309883352\n",
            "['0', '2', '3', '3', '3', '5', '6', '8', '8', '9']\n",
            "0 is an smallest number and the largest number is  9\n"
          ],
          "name": "stdout"
        }
      ]
    },
    {
      "cell_type": "code",
      "metadata": {
        "id": "Ft-XROveqwki",
        "colab_type": "code",
        "colab": {
          "base_uri": "https://localhost:8080/",
          "height": 51
        },
        "outputId": "3615d499-8277-4d3e-eb39-d04838cda409"
      },
      "source": [
        " l=input('enter the list elements')\n",
        "if len(l)==0:\n",
        "  print('the list is empty')\n",
        "else:\n",
        "  print('the list contains some elements ')"
      ],
      "execution_count": 3,
      "outputs": [
        {
          "output_type": "stream",
          "text": [
            "enter the list elements\n",
            "the list is empty\n"
          ],
          "name": "stdout"
        }
      ]
    },
    {
      "cell_type": "code",
      "metadata": {
        "id": "bNsCcpMmrCZD",
        "colab_type": "code",
        "colab": {
          "base_uri": "https://localhost:8080/",
          "height": 106
        },
        "outputId": "e842ca08-79d5-4fb7-d279-c1c5f20bf9d6"
      },
      "source": [
        " a=list(input('enter the list elements'))\n",
        "b=a    #b=a.copy()\n",
        "print(b)\n",
        "a.append('h')\n",
        "print(b)\n",
        "print(a)"
      ],
      "execution_count": 4,
      "outputs": [
        {
          "output_type": "stream",
          "text": [
            "enter the list elements532257785\n",
            "['5', '3', '2', '2', '5', '7', '7', '8', '5']\n",
            "['5', '3', '2', '2', '5', '7', '7', '8', '5', 'h']\n",
            "['5', '3', '2', '2', '5', '7', '7', '8', '5', 'h']\n"
          ],
          "name": "stdout"
        }
      ]
    },
    {
      "cell_type": "code",
      "metadata": {
        "id": "5d5i-FcMrNsp",
        "colab_type": "code",
        "colab": {
          "base_uri": "https://localhost:8080/",
          "height": 71
        },
        "outputId": "85039953-fb82-4e7c-9485-5cc478c9e639"
      },
      "source": [
        " l=list(input('enter the elements of the list'))\n",
        "for i in l:\n",
        "  if int(i)%2==0:\n",
        "    l.remove(i)\n",
        "  else:\n",
        "    pass\n",
        "print(l)"
      ],
      "execution_count": 5,
      "outputs": [
        {
          "output_type": "stream",
          "text": [
            "enter the elements of the list4378643246\n",
            "['3', '7', '3', '4', '6']\n"
          ],
          "name": "stdout"
        }
      ]
    },
    {
      "cell_type": "code",
      "metadata": {
        "id": "S40jQATeraKj",
        "colab_type": "code",
        "colab": {}
      },
      "source": [
        " import shutil\n",
        "path= 'C:\\\\Users\\\\siva krishna\\\\Documents\\\\example1.txt'\n",
        "target = 'C:\\\\Users\\\\siva krishna\\\\Documents\\\\example2.txt'\n",
        "shutil(path,target)\n",
        "f=open('example2.txt')\n",
        "a=f.read()\n",
        "print(a)"
      ],
      "execution_count": null,
      "outputs": []
    },
    {
      "cell_type": "code",
      "metadata": {
        "id": "5Mq1WDbcrk-1",
        "colab_type": "code",
        "colab": {
          "base_uri": "https://localhost:8080/",
          "height": 51
        },
        "outputId": "d6cc0be6-3fc5-4308-d2c3-afac2317e148"
      },
      "source": [
        " l=list(input('enter the list elements'))\n",
        "sum=0\n",
        "for i in l:\n",
        "  sum+=int(i)\n",
        "print(sum)"
      ],
      "execution_count": 7,
      "outputs": [
        {
          "output_type": "stream",
          "text": [
            "enter the list elements5357884\n",
            "40\n"
          ],
          "name": "stdout"
        }
      ]
    }
  ]
}