{
  "nbformat": 4,
  "nbformat_minor": 0,
  "metadata": {
    "colab": {
      "name": "Assainment 13",
      "provenance": [],
      "authorship_tag": "ABX9TyNma6GcV7eptDcOdr5DYRDA",
      "include_colab_link": true
    },
    "kernelspec": {
      "name": "python3",
      "display_name": "Python 3"
    }
  },
  "cells": [
    {
      "cell_type": "markdown",
      "metadata": {
        "id": "view-in-github",
        "colab_type": "text"
      },
      "source": [
        "<a href=\"https://colab.research.google.com/github/Govind901/assignment-1-2/blob/master/Assainment_13.ipynb\" target=\"_parent\"><img src=\"https://colab.research.google.com/assets/colab-badge.svg\" alt=\"Open In Colab\"/></a>"
      ]
    },
    {
      "cell_type": "code",
      "metadata": {
        "id": "sc27v_yRm7J5",
        "colab_type": "code",
        "colab": {}
      },
      "source": [
        " a=input('enter the string')\n",
        "if g.lower().startswith('g'):\n",
        "  print('the string stars with : g ')"
      ],
      "execution_count": null,
      "outputs": []
    },
    {
      "cell_type": "code",
      "metadata": {
        "id": "Ae8ck6gboFwy",
        "colab_type": "code",
        "colab": {}
      },
      "source": [
        " i=a.index('a')\n",
        "i1=a.index('a',1)\n",
        "print(i)\n",
        "print(i1)"
      ],
      "execution_count": null,
      "outputs": []
    },
    {
      "cell_type": "code",
      "metadata": {
        "id": "CrneFkOXo78t",
        "colab_type": "code",
        "colab": {
          "base_uri": "https://localhost:8080/",
          "height": 34
        },
        "outputId": "4e9ad34f-ad07-46b4-85fa-8f0f12097ee8"
      },
      "source": [
        " n={'a':1,'b':2,'c':4,'d':5}\n",
        "for i,j in n.items():\n",
        "  print(i,':',j,end=',')"
      ],
      "execution_count": 5,
      "outputs": [
        {
          "output_type": "stream",
          "text": [
            "a : 1,b : 2,c : 4,d : 5,"
          ],
          "name": "stdout"
        }
      ]
    },
    {
      "cell_type": "code",
      "metadata": {
        "id": "Y2ReqfOIpM-C",
        "colab_type": "code",
        "colab": {
          "base_uri": "https://localhost:8080/",
          "height": 71
        },
        "outputId": "460e1be1-ecb3-4754-c72a-1b5eef51f35c"
      },
      "source": [
        " d={'a':4,'b':1,'c':3,'d':5,'e':0}\n",
        "print(d)\n",
        "del d['e']  \n",
        "print(d)"
      ],
      "execution_count": 6,
      "outputs": [
        {
          "output_type": "stream",
          "text": [
            "{'a': 4, 'b': 1, 'c': 3, 'd': 5, 'e': 0}\n",
            "{'a': 4, 'b': 1, 'c': 3, 'd': 5}\n"
          ],
          "name": "stdout"
        }
      ]
    }
  ]
}