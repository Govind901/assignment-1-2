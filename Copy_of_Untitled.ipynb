{
  "nbformat": 4,
  "nbformat_minor": 0,
  "metadata": {
    "colab": {
      "name": "Copy of Untitled",
      "provenance": [],
      "collapsed_sections": [],
      "include_colab_link": true
    },
    "kernelspec": {
      "name": "python3",
      "display_name": "Python 3"
    }
  },
  "cells": [
    {
      "cell_type": "markdown",
      "metadata": {
        "id": "view-in-github",
        "colab_type": "text"
      },
      "source": [
        "<a href=\"https://colab.research.google.com/github/Govind901/assignment-1-2/blob/master/Copy_of_Untitled.ipynb\" target=\"_parent\"><img src=\"https://colab.research.google.com/assets/colab-badge.svg\" alt=\"Open In Colab\"/></a>"
      ]
    },
    {
      "cell_type": "code",
      "metadata": {
        "id": "i7Ojt-Vd90am",
        "colab_type": "code",
        "colab": {
          "base_uri": "https://localhost:8080/",
          "height": 173
        },
        "outputId": "4e5ed34f-e875-4610-ece1-31bd714f4a9d"
      },
      "source": [
        " a=int(input(\"enter the values of a\"))\n",
        "b=int(input(\"enter the values of b\"))\n",
        "print(a+b)\n",
        "print(a-b)\n",
        "print(a/b)\n",
        "print(a*b)\n",
        "print(a%b)\n",
        "print(a**b)\n",
        "print(a//b)"
      ],
      "execution_count": null,
      "outputs": [
        {
          "output_type": "stream",
          "text": [
            "enter the values of a5\n",
            "enter the values of b4\n",
            "9\n",
            "1\n",
            "1.25\n",
            "20\n",
            "1\n",
            "625\n",
            "1\n"
          ],
          "name": "stdout"
        }
      ]
    },
    {
      "cell_type": "code",
      "metadata": {
        "id": "65ZaqNvKgRKp",
        "colab_type": "code",
        "colab": {
          "base_uri": "https://localhost:8080/",
          "height": 86
        },
        "outputId": "f63b43ca-9c25-40aa-d09c-6100ae7a3141"
      },
      "source": [
        " p=float(input(\"enter the values of p\"))\n",
        "t=float(input(\"enter the values of t\"))\n",
        "r=float(input(\"enter the values of r\"))\n",
        "simple_interest=(p*t*r)/100\n",
        "print(simple_interest)"
      ],
      "execution_count": null,
      "outputs": [
        {
          "output_type": "stream",
          "text": [
            "enter the values of p100\n",
            "enter the values of t20\n",
            "enter the values of r25.2\n",
            "504.0\n"
          ],
          "name": "stdout"
        }
      ]
    },
    {
      "cell_type": "code",
      "metadata": {
        "id": "A9pb9FGGg4Nc",
        "colab_type": "code",
        "colab": {
          "base_uri": "https://localhost:8080/",
          "height": 71
        },
        "outputId": "d4017a96-46f7-4b9c-ab3e-ae27043e8c20"
      },
      "source": [
        " pi=3.14\n",
        "radius=float(input(\"enter the values of radius of a circle\"))\n",
        "area=pi*radius*radius\n",
        "print(area)"
      ],
      "execution_count": null,
      "outputs": [
        {
          "output_type": "stream",
          "text": [
            "enter the values of radius of a circle3.5\n",
            "38.465\n"
          ],
          "name": "stdout"
        }
      ]
    },
    {
      "cell_type": "code",
      "metadata": {
        "id": "LY0IWqkWhL_t",
        "colab_type": "code",
        "colab": {
          "base_uri": "https://localhost:8080/",
          "height": 86
        },
        "outputId": "0929854c-b84c-49c6-d85d-659e0d5ebe72"
      },
      "source": [
        " a=float(input(\"enter the values of a\"))\n",
        "b=float(input(\"enter the values of b\"))\n",
        "c=float(input(\"enter the values of c\"))\n",
        "s=(a+b+c)/2\n",
        "area+(s*(s-a)*(s-b)*(s-c))**0.5\n",
        "print(area)"
      ],
      "execution_count": null,
      "outputs": [
        {
          "output_type": "stream",
          "text": [
            "enter the values of a5\n",
            "enter the values of b4\n",
            "enter the values of c7\n",
            "38.465\n"
          ],
          "name": "stdout"
        }
      ]
    },
    {
      "cell_type": "code",
      "metadata": {
        "id": "ZB5j-l86hqcE",
        "colab_type": "code",
        "colab": {
          "base_uri": "https://localhost:8080/",
          "height": 71
        },
        "outputId": "e9581b41-9701-4372-bba3-0ba9f6cf73f7"
      },
      "source": [
        " celsius=int(input(\"enter the temperature in celsius\"))\n",
        "fahrenheit=(celsius*1.8)+32\n",
        "print(fahrenheit)"
      ],
      "execution_count": null,
      "outputs": [
        {
          "output_type": "stream",
          "text": [
            "enter the temperature in celsius20\n",
            "68.0\n"
          ],
          "name": "stdout"
        }
      ]
    },
    {
      "cell_type": "code",
      "metadata": {
        "id": "JJl2vXcGiODe",
        "colab_type": "code",
        "colab": {
          "base_uri": "https://localhost:8080/",
          "height": 69
        },
        "outputId": "7a6e4ab0-eb3b-4342-d331-d43f744b2fe3"
      },
      "source": [
        " l=float(input(\"enter the values of l\"))\n",
        "b=float(input(\"enter the values of b\"))\n",
        "area=l*b\n",
        "print(area)"
      ],
      "execution_count": null,
      "outputs": [
        {
          "output_type": "stream",
          "text": [
            "enter the values of l5\n",
            "enter the values of b4\n",
            "20.0\n"
          ],
          "name": "stdout"
        }
      ]
    },
    {
      "cell_type": "code",
      "metadata": {
        "id": "d1HrMGNNjO2u",
        "colab_type": "code",
        "colab": {
          "base_uri": "https://localhost:8080/",
          "height": 51
        },
        "outputId": "13419459-2baa-47f2-cee5-8207b8c3cb66"
      },
      "source": [
        " n=float(input(\"enter the values of n\"))\n",
        "perimeter=(4*n)\n",
        "print(perimeter)"
      ],
      "execution_count": null,
      "outputs": [
        {
          "output_type": "stream",
          "text": [
            "enter the values of n6\n",
            "24.0\n"
          ],
          "name": "stdout"
        }
      ]
    },
    {
      "cell_type": "code",
      "metadata": {
        "id": "XIoH36u2jf_A",
        "colab_type": "code",
        "colab": {
          "base_uri": "https://localhost:8080/",
          "height": 51
        },
        "outputId": "a8b120c1-bac5-4f27-cf63-1b34c7ac43e8"
      },
      "source": [
        " pi=3.14\n",
        "r=float(input(\"enter the values of r\"))\n",
        "circumference=2*pi*r\n",
        "print(circumference)"
      ],
      "execution_count": null,
      "outputs": [
        {
          "output_type": "stream",
          "text": [
            "enter the values of r5.6\n",
            "35.168\n"
          ],
          "name": "stdout"
        }
      ]
    },
    {
      "cell_type": "markdown",
      "metadata": {
        "id": "SZxF5r_6f5Wh",
        "colab_type": "text"
      },
      "source": [
        ""
      ]
    }
  ]
}